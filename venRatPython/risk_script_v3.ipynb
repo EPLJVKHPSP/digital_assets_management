{
 "cells": [
  {
   "cell_type": "code",
   "execution_count": 117,
   "id": "47a56312-6adb-4798-b3fc-8d588f0e1494",
   "metadata": {},
   "outputs": [],
   "source": [
    "import numpy as np\n",
    "from scipy.optimize import minimize\n",
    "import pandas as pd\n",
    "from datetime import datetime"
   ]
  },
  {
   "cell_type": "code",
   "execution_count": 118,
   "id": "59049435-897e-4a0c-b8ae-cd864c9321eb",
   "metadata": {},
   "outputs": [
    {
     "name": "stdout",
     "output_type": "stream",
     "text": [
      "[0. 0. 0. 0. 0. 0. 0. 0. 0.]\n"
     ]
    }
   ],
   "source": [
    "# Step 1: Define the risk scores for each protocol\n",
    "\n",
    "# Load protocol data from CSV\n",
    "protocols_df = pd.read_csv('protocols.csv')\n",
    "\n",
    "# Extract Protocol names and Ratings\n",
    "protocols = protocols_df['Protocol'].tolist()\n",
    "ratings_values = protocols_df['Rating'].values\n",
    "\n",
    "np.set_printoptions(precision=10, suppress=True)\n",
    "\n",
    "ratings_values = np.array(ratings_values)\n",
    "\n",
    "# Inverted risk scores\n",
    "inverted_risk_scores = 1 / ratings_values\n",
    "\n",
    "print(inverted_risk_scores)"
   ]
  },
  {
   "cell_type": "code",
   "execution_count": 119,
   "id": "aaccc475-60df-4ba6-88bf-a6c596feb1cd",
   "metadata": {},
   "outputs": [],
   "source": [
    "# Step 2: Create the risk scores matrix (Σ)\n",
    "Sigma = np.diag(inverted_risk_scores)"
   ]
  },
  {
   "cell_type": "code",
   "execution_count": 120,
   "id": "518fe2a1-50eb-484b-9ed4-eaa0a4fe3de8",
   "metadata": {},
   "outputs": [],
   "source": [
    "# Step 3: Normalize the risk scores matrix (Σ̃)\n",
    "Sigma_norm = Sigma / np.linalg.norm(Sigma)"
   ]
  },
  {
   "cell_type": "code",
   "execution_count": 121,
   "id": "841dfee7-74da-4b28-b077-427407c1785c",
   "metadata": {},
   "outputs": [
    {
     "name": "stdout",
     "output_type": "stream",
     "text": [
      "[[0.0008425705 0.           0.           0.           0.\n",
      "  0.           0.           0.           0.          ]\n",
      " [0.           0.0084684583 0.           0.           0.\n",
      "  0.           0.           0.           0.          ]\n",
      " [0.           0.           0.0027251839 0.           0.\n",
      "  0.           0.           0.           0.          ]\n",
      " [0.           0.           0.           0.013298117  0.\n",
      "  0.           0.           0.           0.          ]\n",
      " [0.           0.           0.           0.           0.1462412554\n",
      "  0.           0.           0.           0.          ]\n",
      " [0.           0.           0.           0.           0.\n",
      "  0.0425321247 0.           0.           0.          ]\n",
      " [0.           0.           0.           0.           0.\n",
      "  0.           0.0701876959 0.           0.          ]\n",
      " [0.           0.           0.           0.           0.\n",
      "  0.           0.           0.4255690918 0.          ]\n",
      " [0.           0.           0.           0.           0.\n",
      "  0.           0.           0.           0.889107675 ]]\n"
     ]
    }
   ],
   "source": [
    "print(Sigma_norm)"
   ]
  },
  {
   "cell_type": "code",
   "execution_count": 122,
   "id": "b7f60e15-929d-47f9-9974-65b8f641a045",
   "metadata": {},
   "outputs": [],
   "source": [
    "# Step 4: Define the ERC weighting methodology\n",
    "def risk_contribution(weights, Sigma):\n",
    "    return np.dot(weights, np.dot(Sigma, weights))"
   ]
  },
  {
   "cell_type": "code",
   "execution_count": 123,
   "id": "6ee86f6d-f9c7-47bc-91bc-fcbafcdcf14d",
   "metadata": {},
   "outputs": [],
   "source": [
    "def risk_contributions(weights, Sigma):\n",
    "    total_risk = risk_contribution(weights, Sigma)\n",
    "    marginal_contributions = np.dot(Sigma, weights)\n",
    "    return weights * marginal_contributions / total_risk"
   ]
  },
  {
   "cell_type": "code",
   "execution_count": 124,
   "id": "4ea9907f-845e-4999-968c-d71a249cd831",
   "metadata": {},
   "outputs": [],
   "source": [
    "def variance_risk_contributions(weights, Sigma):\n",
    "    contributions = risk_contributions(weights, Sigma)\n",
    "    return np.var(contributions)"
   ]
  },
  {
   "cell_type": "code",
   "execution_count": 125,
   "id": "a0a00638-df5f-449a-afba-a3e6b16b2479",
   "metadata": {},
   "outputs": [],
   "source": [
    "# Step 5: Optimize the Weights\n",
    "\n",
    "# Number of protocols\n",
    "n = len(protocols)\n",
    "\n",
    "# Initial guess: equal weights\n",
    "initial_weights = np.ones(n) / n  # Initial guess: equal weights\n",
    "\n",
    "# Constraints: Weights must sum to 1\n",
    "constraints = ({'type': 'eq', 'fun': lambda w: np.sum(w) - 1})  # Weights must sum to 1\n",
    "\n",
    "# Bounds: Weights must be between 0 and 1\n",
    "bounds = [(0, 1) for _ in range(n)]  # Weights must be between 0 and 1\n",
    "\n",
    "# Optimize to find the weights that minimize the variance of risk contributions\n",
    "result = minimize(variance_risk_contributions, initial_weights, args=(Sigma_norm,),\n",
    "                  method='SLSQP', bounds=bounds, constraints=constraints)\n",
    "\n",
    "# Get the optimal weights\n",
    "optimal_weights = result.x"
   ]
  },
  {
   "cell_type": "code",
   "execution_count": 126,
   "id": "391712d1-c6e2-4513-9331-b8f8b4e9cdf2",
   "metadata": {},
   "outputs": [],
   "source": [
    "# Step 6: Define the total allocation amount\n",
    "total_allocation = 10000  # Total amount to be allocated in dollars"
   ]
  },
  {
   "cell_type": "code",
   "execution_count": 127,
   "id": "83f90723-44e2-4652-a678-848e2ca059f3",
   "metadata": {},
   "outputs": [],
   "source": [
    "# Calculate the dollar allocation for each protocol\n",
    "dollar_allocation = optimal_weights * total_allocation"
   ]
  },
  {
   "cell_type": "code",
   "execution_count": 128,
   "id": "e7c98bc9-4a97-40fb-9037-40d2c988f64a",
   "metadata": {},
   "outputs": [
    {
     "data": {
      "text/html": [
       "<div>\n",
       "<style scoped>\n",
       "    .dataframe tbody tr th:only-of-type {\n",
       "        vertical-align: middle;\n",
       "    }\n",
       "\n",
       "    .dataframe tbody tr th {\n",
       "        vertical-align: top;\n",
       "    }\n",
       "\n",
       "    .dataframe thead th {\n",
       "        text-align: right;\n",
       "    }\n",
       "</style>\n",
       "<table border=\"1\" class=\"dataframe\">\n",
       "  <thead>\n",
       "    <tr style=\"text-align: right;\">\n",
       "      <th></th>\n",
       "      <th>Protocol</th>\n",
       "      <th>Allocation ($)</th>\n",
       "      <th>Weight (%)</th>\n",
       "    </tr>\n",
       "  </thead>\n",
       "  <tbody>\n",
       "    <tr>\n",
       "      <th>0</th>\n",
       "      <td>aave</td>\n",
       "      <td>3965.48</td>\n",
       "      <td>39.65</td>\n",
       "    </tr>\n",
       "    <tr>\n",
       "      <th>1</th>\n",
       "      <td>curve-finance</td>\n",
       "      <td>1249.47</td>\n",
       "      <td>12.49</td>\n",
       "    </tr>\n",
       "    <tr>\n",
       "      <th>2</th>\n",
       "      <td>uniswap</td>\n",
       "      <td>2206.21</td>\n",
       "      <td>22.06</td>\n",
       "    </tr>\n",
       "    <tr>\n",
       "      <th>3</th>\n",
       "      <td>morpho</td>\n",
       "      <td>991.76</td>\n",
       "      <td>9.92</td>\n",
       "    </tr>\n",
       "    <tr>\n",
       "      <th>4</th>\n",
       "      <td>trader-joe</td>\n",
       "      <td>299.09</td>\n",
       "      <td>2.99</td>\n",
       "    </tr>\n",
       "    <tr>\n",
       "      <th>5</th>\n",
       "      <td>kamino</td>\n",
       "      <td>557.13</td>\n",
       "      <td>5.57</td>\n",
       "    </tr>\n",
       "    <tr>\n",
       "      <th>6</th>\n",
       "      <td>ethena</td>\n",
       "      <td>433.14</td>\n",
       "      <td>4.33</td>\n",
       "    </tr>\n",
       "    <tr>\n",
       "      <th>7</th>\n",
       "      <td>stargate</td>\n",
       "      <td>175.74</td>\n",
       "      <td>1.76</td>\n",
       "    </tr>\n",
       "    <tr>\n",
       "      <th>8</th>\n",
       "      <td>ramses-exchange</td>\n",
       "      <td>121.99</td>\n",
       "      <td>1.22</td>\n",
       "    </tr>\n",
       "  </tbody>\n",
       "</table>\n",
       "</div>"
      ],
      "text/plain": [
       "          Protocol  Allocation ($)  Weight (%)\n",
       "0             aave         3965.48       39.65\n",
       "1    curve-finance         1249.47       12.49\n",
       "2          uniswap         2206.21       22.06\n",
       "3           morpho          991.76        9.92\n",
       "4       trader-joe          299.09        2.99\n",
       "5           kamino          557.13        5.57\n",
       "6           ethena          433.14        4.33\n",
       "7         stargate          175.74        1.76\n",
       "8  ramses-exchange          121.99        1.22"
      ]
     },
     "execution_count": 128,
     "metadata": {},
     "output_type": "execute_result"
    }
   ],
   "source": [
    "# Step 7: Print the summary\n",
    "summary = []\n",
    "for protocol, weight, allocation in zip(protocols, optimal_weights, dollar_allocation):\n",
    "    summary.append({'Protocol': protocol, 'Allocation ($)': allocation, 'Weight (%)': weight * 100})\n",
    "\n",
    "# Convert the summary to a DataFrame\n",
    "summary_df = pd.DataFrame(summary)\n",
    "\n",
    "# Format the DataFrame to display numbers without scientific notation\n",
    "pd.options.display.float_format = '{:.2f}'.format\n",
    "\n",
    "summary_df"
   ]
  }
 ],
 "metadata": {
  "kernelspec": {
   "display_name": "Python 3 (ipykernel)",
   "language": "python",
   "name": "python3"
  },
  "language_info": {
   "codemirror_mode": {
    "name": "ipython",
    "version": 3
   },
   "file_extension": ".py",
   "mimetype": "text/x-python",
   "name": "python",
   "nbconvert_exporter": "python",
   "pygments_lexer": "ipython3",
   "version": "3.12.3"
  }
 },
 "nbformat": 4,
 "nbformat_minor": 5
}
