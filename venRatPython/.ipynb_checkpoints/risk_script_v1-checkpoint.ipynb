{
 "cells": [
  {
   "cell_type": "code",
   "execution_count": 11,
   "id": "af198662-e393-4cb1-b3aa-8f5043f1cf3d",
   "metadata": {},
   "outputs": [],
   "source": [
    "import numpy as np\n",
    "from scipy.optimize import minimize"
   ]
  },
  {
   "cell_type": "code",
   "execution_count": 12,
   "id": "59049435-897e-4a0c-b8ae-cd864c9321eb",
   "metadata": {},
   "outputs": [],
   "source": [
    "# Step 1: Define the risk scores for each protocol\n",
    "\n",
    "# As an examples I will use 5 different Protocols\n",
    "# 1 AAVE 89.74 = 0.8974\n",
    "# 2 UNISWAP 94.28 = 0.9428\n",
    "# 3 BALANCER 79.15 = 0.7915\n",
    "# 4 TRADER JOE = 76.26 = 0.7626\n",
    "# 5 ORCA 68.27 = 0.6827\n",
    "\n",
    "risk_scores = np.array([0.8974, 0.9428, 0.7915, 0.7626, 0.6827])  # Example risk scores\n",
    "\n",
    "inverted_risk_scores = 1 / risk_scores"
   ]
  },
  {
   "cell_type": "code",
   "execution_count": 13,
   "id": "aaccc475-60df-4ba6-88bf-a6c596feb1cd",
   "metadata": {},
   "outputs": [],
   "source": [
    "# Step 2: Create the risk scores matrix (Σ)\n",
    "Sigma = np.diag(inverted_risk_scores)"
   ]
  },
  {
   "cell_type": "code",
   "execution_count": 14,
   "id": "518fe2a1-50eb-484b-9ed4-eaa0a4fe3de8",
   "metadata": {},
   "outputs": [],
   "source": [
    "# Step 3: Normalize the risk scores matrix (Σ̃)\n",
    "Sigma_norm = Sigma / np.linalg.norm(Sigma)"
   ]
  },
  {
   "cell_type": "code",
   "execution_count": 15,
   "id": "b7f60e15-929d-47f9-9974-65b8f641a045",
   "metadata": {},
   "outputs": [
    {
     "name": "stdout",
     "output_type": "stream",
     "text": [
      "[[0.3982783  0.         0.         0.         0.        ]\n",
      " [0.         0.37909943 0.         0.         0.        ]\n",
      " [0.         0.         0.45156658 0.         0.        ]\n",
      " [0.         0.         0.         0.46867945 0.        ]\n",
      " [0.         0.         0.         0.         0.52353149]]\n"
     ]
    }
   ],
   "source": [
    "print(Sigma_norm)"
   ]
  },
  {
   "cell_type": "code",
   "execution_count": 16,
   "id": "6ee86f6d-f9c7-47bc-91bc-fcbafcdcf14d",
   "metadata": {},
   "outputs": [],
   "source": [
    "# Step 4: Define the ERC weighting methodology\n",
    "def risk_contribution(weights, Sigma):\n",
    "    return np.dot(weights, np.dot(Sigma, weights))"
   ]
  },
  {
   "cell_type": "code",
   "execution_count": 17,
   "id": "4ea9907f-845e-4999-968c-d71a249cd831",
   "metadata": {},
   "outputs": [],
   "source": [
    "def risk_contributions(weights, Sigma):\n",
    "    total_risk = risk_contribution(weights, Sigma)\n",
    "    marginal_contributions = np.dot(Sigma, weights)\n",
    "    return weights * marginal_contributions / total_risk"
   ]
  },
  {
   "cell_type": "code",
   "execution_count": 20,
   "id": "a0a00638-df5f-449a-afba-a3e6b16b2479",
   "metadata": {},
   "outputs": [],
   "source": [
    "def variance_risk_contributions(weights, Sigma):\n",
    "    contributions = risk_contributions(weights, Sigma)\n",
    "    return np.var(contributions)"
   ]
  },
  {
   "cell_type": "code",
   "execution_count": 21,
   "id": "391712d1-c6e2-4513-9331-b8f8b4e9cdf2",
   "metadata": {},
   "outputs": [],
   "source": [
    "# Step 5: Optimize the Weights\n",
    "\n",
    "# Number of protocols\n",
    "n = len(risk_scores)\n",
    "\n",
    "# Initial guess: equal weights\n",
    "initial_weights = np.ones(n) / n  # Initial guess: equal weights\n",
    "\n",
    "# Constraints: Weights must sum to 1\n",
    "constraints = ({'type': 'eq', 'fun': lambda w: np.sum(w) - 1})  # Weights must sum to 1\n",
    "\n",
    "# Bounds: Weights must be between 0 and 1\n",
    "bounds = [(0, 1) for _ in range(n)]  # Weights must be between 0 and 1\n",
    "\n",
    "# Optimize to find the weights that minimize the variance of risk contributions\n",
    "result = minimize(variance_risk_contributions, initial_weights, args=(Sigma_norm,),\n",
    "                  method='SLSQP', bounds=bounds, constraints=constraints)\n",
    "\n",
    "# Get the optimal weights\n",
    "optimal_weights = result.x"
   ]
  },
  {
   "cell_type": "code",
   "execution_count": 22,
   "id": "af174aea-f004-4445-99b7-fda67959b57c",
   "metadata": {},
   "outputs": [],
   "source": [
    "# Step 6: Define the total allocation amount\n",
    "total_allocation = 10000  # Total amount to be allocated in dollars"
   ]
  },
  {
   "cell_type": "code",
   "execution_count": 23,
   "id": "a7b89bd7-f8c9-4f37-8b17-f64f800a8bb6",
   "metadata": {},
   "outputs": [],
   "source": [
    "# Calculate the dollar allocation for each protocol\n",
    "dollar_allocation = optimal_weights * total_allocation"
   ]
  },
  {
   "cell_type": "code",
   "execution_count": 24,
   "id": "44424f56-8e30-40de-a107-661b9ae96770",
   "metadata": {},
   "outputs": [
    {
     "name": "stdout",
     "output_type": "stream",
     "text": [
      "Optimal Weights: [0.21004139 0.21513844 0.19763436 0.19396905 0.18321676]\n",
      "Variance of Risk Contributions: 1.7242437583904238e-07\n",
      "\n",
      "Summary of Allocations:\n",
      "AAVE: $2100.41 (21.00%)\n",
      "UNISWAP: $2151.38 (21.51%)\n",
      "BALANCER: $1976.34 (19.76%)\n",
      "TRADER JOE: $1939.69 (19.40%)\n",
      "ORCA: $1832.17 (18.32%)\n"
     ]
    }
   ],
   "source": [
    "# Step 7: Print the summary\n",
    "protocols = ['AAVE', 'UNISWAP', 'BALANCER', 'TRADER JOE', 'ORCA']\n",
    "print(\"Optimal Weights:\", optimal_weights)\n",
    "print(\"Variance of Risk Contributions:\", variance_risk_contributions(optimal_weights, Sigma_norm))\n",
    "print(\"\\nSummary of Allocations:\")\n",
    "for protocol, weight, allocation in zip(protocols, optimal_weights, dollar_allocation):\n",
    "    print(f\"{protocol}: ${allocation:.2f} ({weight*100:.2f}%)\")"
   ]
  },
  {
   "cell_type": "code",
   "execution_count": 25,
   "id": "73e1342c-ddb2-434b-ab35-21277ece85ef",
   "metadata": {},
   "outputs": [
    {
     "name": "stdout",
     "output_type": "stream",
     "text": [
      "\n",
      "Allocation DataFrame:\n",
      "     Protocol  Optimal Weight  Dollar Allocation\n",
      "0        AAVE        0.210041        2100.413919\n",
      "1     UNISWAP        0.215138        2151.384393\n",
      "2    BALANCER        0.197634        1976.343622\n",
      "3  TRADER JOE        0.193969        1939.690456\n",
      "4        ORCA        0.183217        1832.167610\n"
     ]
    }
   ],
   "source": [
    "# Optional: Create a DataFrame for easier visualization and export\n",
    "import pandas as pd\n",
    "\n",
    "df = pd.DataFrame({\n",
    "    'Protocol': protocols,\n",
    "    'Optimal Weight': optimal_weights,\n",
    "    'Dollar Allocation': dollar_allocation\n",
    "})\n",
    "\n",
    "print(\"\\nAllocation DataFrame:\")\n",
    "print(df)"
   ]
  },
  {
   "cell_type": "code",
   "execution_count": null,
   "id": "83f90723-44e2-4652-a678-848e2ca059f3",
   "metadata": {},
   "outputs": [],
   "source": []
  }
 ],
 "metadata": {
  "kernelspec": {
   "display_name": "Python 3 (ipykernel)",
   "language": "python",
   "name": "python3"
  },
  "language_info": {
   "codemirror_mode": {
    "name": "ipython",
    "version": 3
   },
   "file_extension": ".py",
   "mimetype": "text/x-python",
   "name": "python",
   "nbconvert_exporter": "python",
   "pygments_lexer": "ipython3",
   "version": "3.11.2"
  }
 },
 "nbformat": 4,
 "nbformat_minor": 5
}
