{
 "cells": [
  {
   "cell_type": "code",
   "execution_count": 13,
   "id": "af198662-e393-4cb1-b3aa-8f5043f1cf3d",
   "metadata": {},
   "outputs": [],
   "source": [
    "import numpy as np\n",
    "from scipy.optimize import minimize\n",
    "import pandas as pd\n",
    "from datetime import datetime"
   ]
  },
  {
   "cell_type": "code",
   "execution_count": 14,
   "id": "59049435-897e-4a0c-b8ae-cd864c9321eb",
   "metadata": {},
   "outputs": [],
   "source": [
    "# Step 1: Define the risk scores for each protocol\n",
    "\n",
    "# As an examples I will use 5 different Protocols\n",
    "# 1 AAVE\n",
    "# 2 UNISWAP\n",
    "# 3 BALANCER\n",
    "# 4 TRADER JOE\n",
    "# 5 ORCA\n",
    "\n",
    "# Define the protocol data\n",
    "protocol_data = {\n",
    "    'AAVE': {'TVL': 10.688, 'Start Date': '2020-05-20'},\n",
    "    'UNISWAP': {'TVL': 5.569, 'Start Date': '2019-02-10'},\n",
    "    'BALANCER': {'TVL': 1.043, 'Start Date': '2020-04-14'},\n",
    "    'TRADER JOE': {'TVL': 0.184, 'Start Date': '2021-08-01'},\n",
    "    'ORCA': {'TVL': 0.231, 'Start Date': '2021-04-16'}\n",
    "}\n",
    "\n",
    "# Calculate days of existence and ratings\n",
    "ratings = []\n",
    "for protocol, data in protocol_data.items():\n",
    "    days = (datetime.now() - datetime.strptime(data['Start Date'], '%Y-%m-%d')).days\n",
    "    rating = days * data['TVL']\n",
    "    ratings.append(rating)\n",
    "\n",
    "ratings_values = np.array(ratings)\n",
    "\n",
    "inverted_risk_scores = 1 / ratings_values"
   ]
  },
  {
   "cell_type": "code",
   "execution_count": 15,
   "id": "aaccc475-60df-4ba6-88bf-a6c596feb1cd",
   "metadata": {},
   "outputs": [],
   "source": [
    "# Step 2: Create the risk scores matrix (Σ)\n",
    "Sigma = np.diag(inverted_risk_scores)"
   ]
  },
  {
   "cell_type": "code",
   "execution_count": 16,
   "id": "518fe2a1-50eb-484b-9ed4-eaa0a4fe3de8",
   "metadata": {},
   "outputs": [],
   "source": [
    "# Step 3: Normalize the risk scores matrix (Σ̃)\n",
    "Sigma_norm = Sigma / np.linalg.norm(Sigma)"
   ]
  },
  {
   "cell_type": "code",
   "execution_count": 17,
   "id": "b7f60e15-929d-47f9-9974-65b8f641a045",
   "metadata": {},
   "outputs": [
    {
     "name": "stdout",
     "output_type": "stream",
     "text": [
      "[[0.00970424 0.         0.         0.         0.        ]\n",
      " [0.         0.01410433 0.         0.         0.        ]\n",
      " [0.         0.         0.09703533 0.         0.        ]\n",
      " [0.         0.         0.         0.80741701 0.        ]\n",
      " [0.         0.         0.         0.         0.58169477]]\n"
     ]
    }
   ],
   "source": [
    "print(Sigma_norm)"
   ]
  },
  {
   "cell_type": "code",
   "execution_count": 18,
   "id": "6ee86f6d-f9c7-47bc-91bc-fcbafcdcf14d",
   "metadata": {},
   "outputs": [],
   "source": [
    "# Step 4: Define the ERC weighting methodology\n",
    "def risk_contribution(weights, Sigma):\n",
    "    return np.dot(weights, np.dot(Sigma, weights))"
   ]
  },
  {
   "cell_type": "code",
   "execution_count": 23,
   "id": "4ea9907f-845e-4999-968c-d71a249cd831",
   "metadata": {},
   "outputs": [],
   "source": [
    "def risk_contributions(weights, Sigma):\n",
    "    total_risk = risk_contribution(weights, Sigma)\n",
    "    marginal_contributions = np.dot(Sigma, weights)\n",
    "    return weights * marginal_contributions / total_risk"
   ]
  },
  {
   "cell_type": "code",
   "execution_count": 24,
   "id": "a0a00638-df5f-449a-afba-a3e6b16b2479",
   "metadata": {},
   "outputs": [],
   "source": [
    "def variance_risk_contributions(weights, Sigma):\n",
    "    contributions = risk_contributions(weights, Sigma)\n",
    "    return np.var(contributions)"
   ]
  },
  {
   "cell_type": "code",
   "execution_count": 25,
   "id": "391712d1-c6e2-4513-9331-b8f8b4e9cdf2",
   "metadata": {},
   "outputs": [],
   "source": [
    "# Step 5: Optimize the Weights\n",
    "\n",
    "# Number of protocols\n",
    "n = len(protocol_data)\n",
    "\n",
    "# Initial guess: equal weights\n",
    "initial_weights = np.ones(n) / n  # Initial guess: equal weights\n",
    "\n",
    "# Constraints: Weights must sum to 1\n",
    "constraints = ({'type': 'eq', 'fun': lambda w: np.sum(w) - 1})  # Weights must sum to 1\n",
    "\n",
    "# Bounds: Weights must be between 0 and 1\n",
    "bounds = [(0, 1) for _ in range(n)]  # Weights must be between 0 and 1\n",
    "\n",
    "# Optimize to find the weights that minimize the variance of risk contributions\n",
    "result = minimize(variance_risk_contributions, initial_weights, args=(Sigma_norm,),\n",
    "                  method='SLSQP', bounds=bounds, constraints=constraints)\n",
    "\n",
    "# Get the optimal weights\n",
    "optimal_weights = result.x"
   ]
  },
  {
   "cell_type": "code",
   "execution_count": 26,
   "id": "83f90723-44e2-4652-a678-848e2ca059f3",
   "metadata": {},
   "outputs": [],
   "source": [
    "# Step 6: Define the total allocation amount\n",
    "total_allocation = 10000  # Total amount to be allocated in dollars"
   ]
  },
  {
   "cell_type": "code",
   "execution_count": 27,
   "id": "bd697fde-0ba9-452d-9c7e-bcc354bc6bc8",
   "metadata": {},
   "outputs": [],
   "source": [
    "# Calculate the dollar allocation for each protocol\n",
    "dollar_allocation = optimal_weights * total_allocation"
   ]
  },
  {
   "cell_type": "code",
   "execution_count": 28,
   "id": "6189736d-845c-40a2-9d15-1a1ff21e9498",
   "metadata": {},
   "outputs": [
    {
     "name": "stdout",
     "output_type": "stream",
     "text": [
      "Optimal Weights: [0.419956   0.34746797 0.13253519 0.04595866 0.05408218]\n",
      "Variance of Risk Contributions: 1.644796412616186e-07\n",
      "\n",
      "Summary of Allocations:\n",
      "AAVE: $4199.56 (42.00%)\n",
      "UNISWAP: $3474.68 (34.75%)\n",
      "BALANCER: $1325.35 (13.25%)\n",
      "TRADER JOE: $459.59 (4.60%)\n",
      "ORCA: $540.82 (5.41%)\n"
     ]
    }
   ],
   "source": [
    "# Step 7: Print the summary\n",
    "protocols = ['AAVE', 'UNISWAP', 'BALANCER', 'TRADER JOE', 'ORCA']\n",
    "print(\"Optimal Weights:\", optimal_weights)\n",
    "print(\"Variance of Risk Contributions:\", variance_risk_contributions(optimal_weights, Sigma_norm))\n",
    "print(\"\\nSummary of Allocations:\")\n",
    "for protocol, weight, allocation in zip(protocols, optimal_weights, dollar_allocation):\n",
    "    print(f\"{protocol}: ${allocation:.2f} ({weight*100:.2f}%)\")"
   ]
  },
  {
   "cell_type": "code",
   "execution_count": null,
   "id": "038416cc-5cae-4467-993f-98f6a2f04276",
   "metadata": {},
   "outputs": [],
   "source": []
  }
 ],
 "metadata": {
  "kernelspec": {
   "display_name": "Python 3 (ipykernel)",
   "language": "python",
   "name": "python3"
  },
  "language_info": {
   "codemirror_mode": {
    "name": "ipython",
    "version": 3
   },
   "file_extension": ".py",
   "mimetype": "text/x-python",
   "name": "python",
   "nbconvert_exporter": "python",
   "pygments_lexer": "ipython3",
   "version": "3.11.2"
  }
 },
 "nbformat": 4,
 "nbformat_minor": 5
}
